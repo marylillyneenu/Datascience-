{
 "cells": [
  {
   "cell_type": "markdown",
   "id": "0abab527",
   "metadata": {},
   "source": [
    "Q-15. Write an SQL query to fetch intersecting records of two tables."
   ]
  },
  {
   "cell_type": "markdown",
   "id": "019d5dfc",
   "metadata": {},
   "source": [
    "select emp_no, first_name,last_name\n",
    "from Employees\n",
    "\n",
    "intersect\n",
    "\n",
    "select emp_no,first_name, last_name\n",
    "from worker;"
   ]
  },
  {
   "cell_type": "markdown",
   "id": "5755df77",
   "metadata": {},
   "source": [
    "Q-16. Write an SQL query to show records from one table that another table does not\n",
    "have."
   ]
  },
  {
   "cell_type": "markdown",
   "id": "7ce473cf",
   "metadata": {},
   "source": [
    "select *\n",
    "from worker\n",
    "where first_name not in (select first_name from Employees)"
   ]
  },
  {
   "cell_type": "code",
   "execution_count": null,
   "id": "29c53629",
   "metadata": {},
   "outputs": [],
   "source": []
  }
 ],
 "metadata": {
  "kernelspec": {
   "display_name": "Python 3",
   "language": "python",
   "name": "python3"
  },
  "language_info": {
   "codemirror_mode": {
    "name": "ipython",
    "version": 3
   },
   "file_extension": ".py",
   "mimetype": "text/x-python",
   "name": "python",
   "nbconvert_exporter": "python",
   "pygments_lexer": "ipython3",
   "version": "3.8.8"
  }
 },
 "nbformat": 4,
 "nbformat_minor": 5
}

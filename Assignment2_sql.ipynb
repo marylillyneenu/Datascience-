{
 "cells": [
  {
   "cell_type": "markdown",
   "id": "f407ef7b",
   "metadata": {},
   "source": [
    "1.Write an SQL query to print the first three characters of  FIRST_NAME from Worker table\n",
    "\n",
    "SELECT SUBSTRING(FIRST_NAME,1,3) FROM WORKER"
   ]
  },
  {
   "cell_type": "markdown",
   "id": "1d108647",
   "metadata": {},
   "source": [
    "2.Write an SQL query to find the position of the alphabet (‘a’) in the first name column ‘Amitabh’ from Worker table.\n",
    "\n",
    "SELECT POSITION('a' in first name) from worker where first name='Amitabh'\n",
    "\n",
    "OR\n",
    "SELECT locate('a',first name)from worker where first name ='Amitabh'"
   ]
  },
  {
   "cell_type": "markdown",
   "id": "b4114189",
   "metadata": {},
   "source": [
    "3.Write an SQL query to print the name of employees having the highest salary in each department.\n",
    "\n",
    "SELECT department_id, first_name || ' ' || last_name AS Employee_name, salary \n",
    "\tFROM employees a\n",
    "\t\tWHERE salary = \n",
    "\t\t\t(SELECT MAX(salary) \n",
    "\t\t\t\tFROM employees \n",
    "\t\t\tWHERE department_id = a.department_id);\n"
   ]
  }
 ],
 "metadata": {
  "kernelspec": {
   "display_name": "Python 3",
   "language": "python",
   "name": "python3"
  },
  "language_info": {
   "codemirror_mode": {
    "name": "ipython",
    "version": 3
   },
   "file_extension": ".py",
   "mimetype": "text/x-python",
   "name": "python",
   "nbconvert_exporter": "python",
   "pygments_lexer": "ipython3",
   "version": "3.8.8"
  }
 },
 "nbformat": 4,
 "nbformat_minor": 5
}

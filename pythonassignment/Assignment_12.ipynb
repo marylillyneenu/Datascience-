{
 "cells": [
  {
   "cell_type": "raw",
   "id": "8dcce358",
   "metadata": {},
   "source": [
    "1. In what modes should the PdfFileReader() and PdfFileWriter() File objects will be opened?"
   ]
  },
  {
   "cell_type": "markdown",
   "id": "37e5aae8",
   "metadata": {},
   "source": [
    "Read-binary(rb) mode for PdfFileReader() and write-binary(wb) mode for PdfFileWriter()"
   ]
  },
  {
   "cell_type": "raw",
   "id": "ed276acf",
   "metadata": {},
   "source": [
    "2.From a PdfFileReader object, how do you get a Page object for page 5?"
   ]
  },
  {
   "cell_type": "markdown",
   "id": "82389db3",
   "metadata": {},
   "source": [
    "You can get a Page object by calling the getPage() method  on a PdfFileReader object and passing it the page number of the page you’re interested in—in this case,pass 5."
   ]
  },
  {
   "cell_type": "markdown",
   "id": "0b07d0f5",
   "metadata": {},
   "source": [
    "\n",
    "from PyPDF2 import PdfFileReader <br>\n",
    "pdf_reader = PdfFileReader('report final.pdf') <br>\n",
    "print(pdf_reader.getPage(102).extractText()) <br>"
   ]
  },
  {
   "cell_type": "raw",
   "id": "e1c36058",
   "metadata": {},
   "source": [
    "3. What PdfFileReader variable stores the number of pages in the PDF document?"
   ]
  },
  {
   "cell_type": "markdown",
   "id": "58ed43d0",
   "metadata": {},
   "source": [
    "The total number of pages in the document is stored in the **numPages** attribute of a PdfFileReader object "
   ]
  },
  {
   "cell_type": "markdown",
   "id": "26e15b46",
   "metadata": {},
   "source": [
    "pdf_reader = PdfFileReader('report final.pdf') <br>\n",
    "print(pdf_reader.getNumPages())"
   ]
  },
  {
   "cell_type": "raw",
   "id": "99369117",
   "metadata": {},
   "source": [
    "4. If a PdfFileReader object’s PDF is encrypted with the password swordfish, what must you do before you can obtain Page objects from it?"
   ]
  },
  {
   "cell_type": "markdown",
   "id": "4a568e28",
   "metadata": {},
   "source": [
    "call decrypt(swordfish)"
   ]
  },
  {
   "cell_type": "markdown",
   "id": "464a15ea",
   "metadata": {},
   "source": [
    "from PyPDF2 import PdfFileReader<br>\n",
    "pdf_reader = PdfFileReader('report final.pdf')<br>\n",
    "if pdf_reader.isEncrypted: # to check whether the pdf is encrypted or not<br>\n",
    "    pdf_reader.decrypt(\"swordfish\")<br>\n",
    "for page in pdf_reader.pages:<br>\n",
    "    print(page.extractText()) # to print the text data of a page from pdf"
   ]
  },
  {
   "cell_type": "raw",
   "id": "9a6edf9f",
   "metadata": {},
   "source": [
    "5. What methods do you use to rotate a page?"
   ]
  },
  {
   "cell_type": "markdown",
   "id": "b43eac37",
   "metadata": {},
   "source": [
    "PyPDF2 Package provides 2 methods to rotate a page: <br>\n",
    "\n",
    "rotateClockWise() -> For Clockwise rotation<br>\n",
    "rotateCounterClockWise() -> For Counter Clockwise rotation <br>\n",
    "The PyPDF2 package only allows you to rotate a page in increments of 90 degrees. You will receive an AssertionError otherwise."
   ]
  },
  {
   "cell_type": "raw",
   "id": "06e4bf68",
   "metadata": {},
   "source": [
    "6. What is the difference between a Run object and a Paragraph object?"
   ]
  },
  {
   "cell_type": "markdown",
   "id": "f69cf640",
   "metadata": {},
   "source": [
    "Ans: The structure of a document is represented by three different data types in python-Docx. At the highest level, a Document object represents the entire document. The Document object contains a list of Paragraph objects for the paragraphs in the document. (A new paragraph begins whenever the user presses ENTER or RETURN while typing in a Word document.) Each of these Paragraph objects contains a list of one or more Run objects.\n",
    "\n",
    "The text in a Word document is more than just a string. It has font, size, color, and other styling information associated with it. A style in Word is a collection of these attributes. A Run object is a contiguous run of text with the same style. A new Run object is needed whenever the text style changes."
   ]
  },
  {
   "cell_type": "raw",
   "id": "b9416c7e",
   "metadata": {},
   "source": [
    "7. How do you obtain a list of Paragraph objects for a Document object that’s stored in a variable named doc?"
   ]
  },
  {
   "cell_type": "markdown",
   "id": "1746081f",
   "metadata": {},
   "source": [
    "from docx import Document <br>\n",
    "doc = Document(\"sample_file.docx\") # Path of the Docx file<br>\n",
    "print(doc.paragraphs) # Prints the list of Paragraph objects for a Document<br>\n",
    "for paragraph in doc.paragraphs:<br>\n",
    "    print(paragraph.text) # Prints the text in the paragraph"
   ]
  },
  {
   "cell_type": "raw",
   "id": "a4be7cb2",
   "metadata": {},
   "source": [
    "8. What type of object has bold, underline, italic, strike, and outline variables?"
   ]
  },
  {
   "cell_type": "markdown",
   "id": "90a43a6c",
   "metadata": {},
   "source": [
    "Ans: Run object has bold, underline, italic, strike, and outline variables. The text in a Word document is more than just a string. It has font, size, color, and other styling information associated with it.\n",
    "\n",
    "A style in Word is a collection of these attributes. A Run object is a contiguous run of text with the same style. A new Run object is needed whenever the text style changes."
   ]
  },
  {
   "cell_type": "raw",
   "id": "b415fa06",
   "metadata": {},
   "source": [
    "9. What is the difference between False, True, and None for the bold variable?"
   ]
  },
  {
   "cell_type": "markdown",
   "id": "a6a8b1ff",
   "metadata": {},
   "source": [
    "bold = True  # Style Set to Bold <br>\n",
    "bold = False # Style Not Set to Bold <br>\n",
    "bold = None # Style is Not Applicable <br>"
   ]
  },
  {
   "cell_type": "raw",
   "id": "f9344523",
   "metadata": {},
   "source": [
    "10. How do you create a Document object for a new Word document?"
   ]
  },
  {
   "cell_type": "raw",
   "id": "a766bd70",
   "metadata": {},
   "source": [
    "from docx import Document\n",
    "document = Document()\n",
    "document.add_paragraph(\"iNeuron Full Stack DataScience Course\")\n",
    "document.save('mydocument.docx')"
   ]
  },
  {
   "cell_type": "markdown",
   "id": "fcb43796",
   "metadata": {},
   "source": [
    "11. How do you add a paragraph with the text 'Hello, there!' to a Document object stored in a variable named doc?"
   ]
  },
  {
   "cell_type": "markdown",
   "id": "2fb4ce0a",
   "metadata": {},
   "source": [
    "from docx import Document <br>\n",
    "doc = Document()<br>\n",
    "doc.add_paragraph('Hello, there!')<br>\n",
    "doc.save('hello.docx')"
   ]
  },
  {
   "cell_type": "raw",
   "id": "b0bfa7ba",
   "metadata": {},
   "source": [
    "12. What integers represent the levels of headings available in Word documents?"
   ]
  },
  {
   "cell_type": "markdown",
   "id": "a281b584",
   "metadata": {},
   "source": [
    " The levels for a heading in a word document can be specified by using the level attribute inside the add_heading method. There are a total of 5 levels statring for 0 t0 4. where level 0 makes a headline with the horizontal line below the text, whereas the heading level 1 is the main heading. Similarly, the other headings are sub-heading with their's font-sizes in decreasing order."
   ]
  },
  {
   "cell_type": "code",
   "execution_count": null,
   "id": "8d8ca9a7",
   "metadata": {},
   "outputs": [],
   "source": []
  }
 ],
 "metadata": {
  "kernelspec": {
   "display_name": "Python 3",
   "language": "python",
   "name": "python3"
  },
  "language_info": {
   "codemirror_mode": {
    "name": "ipython",
    "version": 3
   },
   "file_extension": ".py",
   "mimetype": "text/x-python",
   "name": "python",
   "nbconvert_exporter": "python",
   "pygments_lexer": "ipython3",
   "version": "3.8.8"
  }
 },
 "nbformat": 4,
 "nbformat_minor": 5
}

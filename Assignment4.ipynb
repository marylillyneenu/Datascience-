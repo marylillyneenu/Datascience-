{
 "cells": [
  {
   "cell_type": "markdown",
   "id": "e5c15bff",
   "metadata": {},
   "source": [
    "Q-1. Write an SQL query to print the FIRST_NAME from Worker table after replacing ‘a’with ‘A’.\n",
    "\n",
    "        SELECT REPLACE(FIRST_NAME,'a','A') FROM Worker "
   ]
  },
  {
   "cell_type": "markdown",
   "id": "740d14ff",
   "metadata": {},
   "source": [
    "Q-2. Write an SQL query to print all Worker details from the Worker table order by FIRST_NAME Ascending and DEPARTMENT Descending.\n",
    "        \n",
    "        SELECT * FROM Worker order by FIRST_NAME,DEPARTMENT Desc;\n",
    "        "
   ]
  },
  {
   "cell_type": "markdown",
   "id": "cc8599dc",
   "metadata": {},
   "source": [
    "Q-3. Write an SQL query to fetch the names of workers who earn the highest salary.\n",
    "        \n",
    "    SELECT FIRST_NAME,LAST_NAME from workers where salary=(select max(salary) from worker)"
   ]
  },
  {
   "cell_type": "code",
   "execution_count": null,
   "id": "e6143f6a",
   "metadata": {},
   "outputs": [],
   "source": []
  }
 ],
 "metadata": {
  "kernelspec": {
   "display_name": "Python 3",
   "language": "python",
   "name": "python3"
  },
  "language_info": {
   "codemirror_mode": {
    "name": "ipython",
    "version": 3
   },
   "file_extension": ".py",
   "mimetype": "text/x-python",
   "name": "python",
   "nbconvert_exporter": "python",
   "pygments_lexer": "ipython3",
   "version": "3.8.8"
  }
 },
 "nbformat": 4,
 "nbformat_minor": 5
}

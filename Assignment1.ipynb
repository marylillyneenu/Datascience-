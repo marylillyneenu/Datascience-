{
 "cells": [
  {
   "cell_type": "raw",
   "id": "8f8c76e8",
   "metadata": {},
   "source": [
    "Q-1. Write an SQL query to fetch “FIRST_NAME” from Worker table using the alias\n",
    "name as <WORKER_NAME>"
   ]
  },
  {
   "cell_type": "raw",
   "id": "abe2d69b",
   "metadata": {},
   "source": [
    "        SELECT 'FIRST_NAME' AS WORKER_NAME from Worker;"
   ]
  },
  {
   "cell_type": "raw",
   "id": "39407d9c",
   "metadata": {},
   "source": [
    "Q-2.Write an SQL query to fetch unique values of DEPARTMENT from Worker table"
   ]
  },
  {
   "cell_type": "raw",
   "id": "47f3c704",
   "metadata": {},
   "source": [
    "        select distinct(DEPARTMENT) from Worker;"
   ]
  },
  {
   "cell_type": "raw",
   "id": "d5292229",
   "metadata": {},
   "source": [
    "Q-3. Write an SQL query to show the last 5 record from a table"
   ]
  },
  {
   "cell_type": "code",
   "execution_count": null,
   "id": "df3ef28f",
   "metadata": {},
   "outputs": [],
   "source": [
    "         SELECT * FROM worker ORDER BY id DESC LIMIT 5;"
   ]
  }
 ],
 "metadata": {
  "kernelspec": {
   "display_name": "Python 3",
   "language": "python",
   "name": "python3"
  },
  "language_info": {
   "codemirror_mode": {
    "name": "ipython",
    "version": 3
   },
   "file_extension": ".py",
   "mimetype": "text/x-python",
   "name": "python",
   "nbconvert_exporter": "python",
   "pygments_lexer": "ipython3",
   "version": "3.8.8"
  }
 },
 "nbformat": 4,
 "nbformat_minor": 5
}

{
 "cells": [
  {
   "cell_type": "markdown",
   "id": "58a57026",
   "metadata": {},
   "source": [
    "Write an SQL query to show the top n (say 10) records of a table."
   ]
  },
  {
   "cell_type": "markdown",
   "id": "4603af6b",
   "metadata": {},
   "source": [
    "select top 10 *\n",
    "from worker;"
   ]
  },
  {
   "cell_type": "markdown",
   "id": "dbbb6a3d",
   "metadata": {},
   "source": [
    " Write an SQL query to determine the nth (say n=5) highest salary from a table."
   ]
  },
  {
   "cell_type": "markdown",
   "id": "2e349d21",
   "metadata": {},
   "source": [
    "select * from(\n",
    "select ename, sal, dense_rank() \n",
    "over(order by sal desc)r from Employee) \n",
    "where r=5;"
   ]
  },
  {
   "cell_type": "code",
   "execution_count": null,
   "id": "95458fba",
   "metadata": {},
   "outputs": [],
   "source": []
  }
 ],
 "metadata": {
  "kernelspec": {
   "display_name": "Python 3",
   "language": "python",
   "name": "python3"
  },
  "language_info": {
   "codemirror_mode": {
    "name": "ipython",
    "version": 3
   },
   "file_extension": ".py",
   "mimetype": "text/x-python",
   "name": "python",
   "nbconvert_exporter": "python",
   "pygments_lexer": "ipython3",
   "version": "3.8.8"
  }
 },
 "nbformat": 4,
 "nbformat_minor": 5
}

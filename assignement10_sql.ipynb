{
 "cells": [
  {
   "cell_type": "markdown",
   "id": "7a8de93a",
   "metadata": {},
   "source": [
    "Q-19. Write an SQL query to determine the 5th highest salary without using TOP or limit method"
   ]
  },
  {
   "cell_type": "markdown",
   "id": "6efb8cd7",
   "metadata": {},
   "source": [
    "SELECT first_name, last_name, dept_name,current_salary\n",
    "FROM (\n",
    "    SELECT first_name, last_name,dept_name, current_salary, ROW_NUMBER() over( order by current_salary desc) as highest_salary\n",
    "    FROM worker\n",
    "\t)\n",
    "worker\n",
    "WHERE highest_salary <= 5"
   ]
  },
  {
   "cell_type": "markdown",
   "id": "37cb389f",
   "metadata": {},
   "source": [
    "Q-20. Write an SQL query to fetch the list of employees with the same salary.\n",
    "\n"
   ]
  },
  {
   "cell_type": "markdown",
   "id": "55b98bd7",
   "metadata": {},
   "source": [
    "select distinct W.firstname,W.salary\n",
    "from worker W,worker W1\n",
    "where W.salary=W1.salary and\n",
    "W.firstname=W1.firstname;"
   ]
  },
  {
   "cell_type": "code",
   "execution_count": null,
   "id": "c9be23a1",
   "metadata": {},
   "outputs": [],
   "source": []
  }
 ],
 "metadata": {
  "kernelspec": {
   "display_name": "Python 3",
   "language": "python",
   "name": "python3"
  },
  "language_info": {
   "codemirror_mode": {
    "name": "ipython",
    "version": 3
   },
   "file_extension": ".py",
   "mimetype": "text/x-python",
   "name": "python",
   "nbconvert_exporter": "python",
   "pygments_lexer": "ipython3",
   "version": "3.8.8"
  }
 },
 "nbformat": 4,
 "nbformat_minor": 5
}

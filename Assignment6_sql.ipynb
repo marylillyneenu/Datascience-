{
 "cells": [
  {
   "cell_type": "markdown",
   "id": "48231823",
   "metadata": {},
   "source": [
    "1.Write an SQL query to print details of the Workers who have joined in Feb’2014."
   ]
  },
  {
   "cell_type": "raw",
   "id": "4e9246b8",
   "metadata": {},
   "source": [
    "select *\n",
    "from worker\n",
    "where hire_date between '2014-02-01' and '2014-02-28'\n",
    "order by hire_date;"
   ]
  },
  {
   "cell_type": "markdown",
   "id": "32adb8e5",
   "metadata": {},
   "source": [
    "2. Write an SQL query to fetch duplicate records having matching data in some fields of a table."
   ]
  },
  {
   "cell_type": "raw",
   "id": "0afc796d",
   "metadata": {},
   "source": [
    "select first_name ,current_location, count(*) as cnt\n",
    "from worker\n",
    "group by first_name, current_location\n",
    "having count(*)>1;"
   ]
  },
  {
   "cell_type": "markdown",
   "id": "13f53ad1",
   "metadata": {},
   "source": [
    "3. How to remove duplicate rows from Employees table."
   ]
  },
  {
   "cell_type": "raw",
   "id": "11b6ea20",
   "metadata": {},
   "source": [
    "with employeeCTE as \n",
    "(\n",
    "    select *, ROW_NUMBER() over(partition by first_name order by first_name) as rownumber\n",
    "    from workers\n",
    ")\n",
    "\n",
    "delete from employeeCTE where rownumber > 1\n",
    "select * from workers"
   ]
  },
  {
   "cell_type": "code",
   "execution_count": null,
   "id": "727ccd3b",
   "metadata": {},
   "outputs": [],
   "source": []
  }
 ],
 "metadata": {
  "kernelspec": {
   "display_name": "Python 3",
   "language": "python",
   "name": "python3"
  },
  "language_info": {
   "codemirror_mode": {
    "name": "ipython",
    "version": 3
   },
   "file_extension": ".py",
   "mimetype": "text/x-python",
   "name": "python",
   "nbconvert_exporter": "python",
   "pygments_lexer": "ipython3",
   "version": "3.8.8"
  }
 },
 "nbformat": 4,
 "nbformat_minor": 5
}

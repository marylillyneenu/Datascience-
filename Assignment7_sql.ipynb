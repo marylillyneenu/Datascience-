{
 "cells": [
  {
   "cell_type": "markdown",
   "id": "8ed3581f",
   "metadata": {},
   "source": [
    "1. Write an SQL query to show only odd rows from a table."
   ]
  },
  {
   "cell_type": "markdown",
   "id": "7af4910c",
   "metadata": {},
   "source": [
    "SELECT t.First, t.Last\n",
    "FROM (\n",
    "    SELECT *, Row_Number() OVER(ORDER BY First, Last) AS RowNumber \n",
    "            --Row_Number() starts with 1\n",
    "    FROM Table1\n",
    ") t\n",
    "WHERE t.RowNumber % 2 = 1 --Odd"
   ]
  },
  {
   "cell_type": "markdown",
   "id": "3cffe941",
   "metadata": {},
   "source": [
    "2.Write an SQL query to clone a new table from another table"
   ]
  },
  {
   "cell_type": "markdown",
   "id": "8eda7e12",
   "metadata": {},
   "source": [
    "select *\n",
    "into employee1\n",
    "from worker;\n",
    "\n",
    "select *\n",
    "from employee1;"
   ]
  },
  {
   "cell_type": "code",
   "execution_count": null,
   "id": "894425c4",
   "metadata": {},
   "outputs": [],
   "source": []
  }
 ],
 "metadata": {
  "kernelspec": {
   "display_name": "Python 3",
   "language": "python",
   "name": "python3"
  },
  "language_info": {
   "codemirror_mode": {
    "name": "ipython",
    "version": 3
   },
   "file_extension": ".py",
   "mimetype": "text/x-python",
   "name": "python",
   "nbconvert_exporter": "python",
   "pygments_lexer": "ipython3",
   "version": "3.8.8"
  }
 },
 "nbformat": 4,
 "nbformat_minor": 5
}

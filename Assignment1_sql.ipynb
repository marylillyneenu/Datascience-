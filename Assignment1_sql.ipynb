{
 "cells": [
  {
   "cell_type": "code",
   "execution_count": null,
   "id": "426072f5",
   "metadata": {},
   "outputs": [],
   "source": [
    "Q-1. Write an SQL query to fetch “FIRST_NAME” from Worker table using the alias\n",
    "name as <WORKER_NAME>"
   ]
  },
  {
   "cell_type": "code",
   "execution_count": null,
   "id": "ec5628ea",
   "metadata": {},
   "outputs": [],
   "source": [
    "        SELECT 'FIRST_NAME' AS WORKER_NAME from Worker;"
   ]
  },
  {
   "cell_type": "code",
   "execution_count": null,
   "id": "8c1852da",
   "metadata": {},
   "outputs": [],
   "source": [
    "Q-2.Write an SQL query to fetch unique values of DEPARTMENT from Worker table"
   ]
  },
  {
   "cell_type": "code",
   "execution_count": null,
   "id": "b9220890",
   "metadata": {},
   "outputs": [],
   "source": [
    "        select distinct(DEPARTMENT) from Worker;"
   ]
  },
  {
   "cell_type": "code",
   "execution_count": null,
   "id": "e966e73e",
   "metadata": {},
   "outputs": [],
   "source": [
    "Q-3. Write an SQL query to show the last 5 record from a table"
   ]
  },
  {
   "cell_type": "code",
   "execution_count": null,
   "id": "8f87e0da",
   "metadata": {},
   "outputs": [],
   "source": [
    "         SELECT * FROM worker ORDER BY id DESC LIMIT 5;"
   ]
  }
 ],
 "metadata": {
  "kernelspec": {
   "display_name": "Python 3",
   "language": "python",
   "name": "python3"
  },
  "language_info": {
   "codemirror_mode": {
    "name": "ipython",
    "version": 3
   },
   "file_extension": ".py",
   "mimetype": "text/x-python",
   "name": "python",
   "nbconvert_exporter": "python",
   "pygments_lexer": "ipython3",
   "version": "3.8.8"
  }
 },
 "nbformat": 4,
 "nbformat_minor": 5
}
